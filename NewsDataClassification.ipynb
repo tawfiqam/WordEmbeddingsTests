{
 "cells": [
  {
   "cell_type": "markdown",
   "metadata": {
    "colab_type": "text",
    "id": "view-in-github"
   },
   "source": [
    "<a href=\"https://colab.research.google.com/github/omkarsk98/NewsDataClassification/blob/development/NewsDataClassification.ipynb\" target=\"_parent\"><img src=\"https://colab.research.google.com/assets/colab-badge.svg\" alt=\"Open In Colab\"/></a>"
   ]
  },
  {
   "cell_type": "markdown",
   "metadata": {
    "colab_type": "text",
    "id": "zUJRD-W05nMs"
   },
   "source": [
    "Download the repo for original and raw csv data"
   ]
  },
  {
   "cell_type": "code",
   "execution_count": null,
   "metadata": {},
   "outputs": [],
   "source": [
    "# had to download big zip and other file from browser\n",
    "# https://medium.com/analytics-vidhya/news-data-classification-61c04721d30c"
   ]
  },
  {
   "cell_type": "code",
   "execution_count": 1,
   "metadata": {
    "colab": {
     "base_uri": "https://localhost:8080/",
     "height": 119
    },
    "colab_type": "code",
    "id": "OtVE_u-I0m91",
    "outputId": "0e31271b-14a1-49ac-bbe4-5a7cda997a16"
   },
   "outputs": [
    {
     "name": "stdout",
     "output_type": "stream",
     "text": [
      "Cloning into 'NewsDataClassification'...\n",
      "remote: Enumerating objects: 87, done.\u001b[K\n",
      "remote: Counting objects:   1% (1/87)\u001b[K\r",
      "remote: Counting objects:   2% (2/87)\u001b[K\r",
      "remote: Counting objects:   3% (3/87)\u001b[K\r",
      "remote: Counting objects:   4% (4/87)\u001b[K\r",
      "remote: Counting objects:   5% (5/87)\u001b[K\r",
      "remote: Counting objects:   6% (6/87)\u001b[K\r",
      "remote: Counting objects:   8% (7/87)\u001b[K\r",
      "remote: Counting objects:   9% (8/87)\u001b[K\r",
      "remote: Counting objects:  10% (9/87)\u001b[K\r",
      "remote: Counting objects:  11% (10/87)\u001b[K\r",
      "remote: Counting objects:  12% (11/87)\u001b[K\r",
      "remote: Counting objects:  13% (12/87)\u001b[K\r",
      "remote: Counting objects:  14% (13/87)\u001b[K\r",
      "remote: Counting objects:  16% (14/87)\u001b[K\r",
      "remote: Counting objects:  17% (15/87)\u001b[K\r",
      "remote: Counting objects:  18% (16/87)\u001b[K\r",
      "remote: Counting objects:  19% (17/87)\u001b[K\r",
      "remote: Counting objects:  20% (18/87)\u001b[K\r",
      "remote: Counting objects:  21% (19/87)\u001b[K\r",
      "remote: Counting objects:  22% (20/87)\u001b[K\r",
      "remote: Counting objects:  24% (21/87)\u001b[K\r",
      "remote: Counting objects:  25% (22/87)\u001b[K\r",
      "remote: Counting objects:  26% (23/87)\u001b[K\r",
      "remote: Counting objects:  27% (24/87)\u001b[K\r",
      "remote: Counting objects:  28% (25/87)\u001b[K\r",
      "remote: Counting objects:  29% (26/87)\u001b[K\r",
      "remote: Counting objects:  31% (27/87)\u001b[K\r",
      "remote: Counting objects:  32% (28/87)\u001b[K\r",
      "remote: Counting objects:  33% (29/87)\u001b[K\r",
      "remote: Counting objects:  34% (30/87)\u001b[K\r",
      "remote: Counting objects:  35% (31/87)\u001b[K\r",
      "remote: Counting objects:  36% (32/87)\u001b[K\r",
      "remote: Counting objects:  37% (33/87)\u001b[K\r",
      "remote: Counting objects:  39% (34/87)\u001b[K\r",
      "remote: Counting objects:  40% (35/87)\u001b[K\r",
      "remote: Counting objects:  41% (36/87)\u001b[K\r",
      "remote: Counting objects:  42% (37/87)\u001b[K\r",
      "remote: Counting objects:  43% (38/87)\u001b[K\r",
      "remote: Counting objects:  44% (39/87)\u001b[K\r",
      "remote: Counting objects:  45% (40/87)\u001b[K\r",
      "remote: Counting objects:  47% (41/87)\u001b[K\r",
      "remote: Counting objects:  48% (42/87)\u001b[K\r",
      "remote: Counting objects:  49% (43/87)\u001b[K\r",
      "remote: Counting objects:  50% (44/87)\u001b[K\r",
      "remote: Counting objects:  51% (45/87)\u001b[K\r",
      "remote: Counting objects:  52% (46/87)\u001b[K\r",
      "remote: Counting objects:  54% (47/87)\u001b[K\r",
      "remote: Counting objects:  55% (48/87)\u001b[K\r",
      "remote: Counting objects:  56% (49/87)\u001b[K\r",
      "remote: Counting objects:  57% (50/87)\u001b[K\r",
      "remote: Counting objects:  58% (51/87)\u001b[K\r",
      "remote: Counting objects:  59% (52/87)\u001b[K\r",
      "remote: Counting objects:  60% (53/87)\u001b[K\r",
      "remote: Counting objects:  62% (54/87)\u001b[K\r",
      "remote: Counting objects:  63% (55/87)\u001b[K\r",
      "remote: Counting objects:  64% (56/87)\u001b[K\r",
      "remote: Counting objects:  65% (57/87)\u001b[K\r",
      "remote: Counting objects:  66% (58/87)\u001b[K\r",
      "remote: Counting objects:  67% (59/87)\u001b[K\r",
      "remote: Counting objects:  68% (60/87)\u001b[K\r",
      "remote: Counting objects:  70% (61/87)\u001b[K\r",
      "remote: Counting objects:  71% (62/87)\u001b[K\r",
      "remote: Counting objects:  72% (63/87)\u001b[K\r",
      "remote: Counting objects:  73% (64/87)\u001b[K\r",
      "remote: Counting objects:  74% (65/87)\u001b[K\r",
      "remote: Counting objects:  75% (66/87)\u001b[K\r",
      "remote: Counting objects:  77% (67/87)\u001b[K\r",
      "remote: Counting objects:  78% (68/87)\u001b[K\r",
      "remote: Counting objects:  79% (69/87)\u001b[K\r",
      "remote: Counting objects:  80% (70/87)\u001b[K\r",
      "remote: Counting objects:  81% (71/87)\u001b[K\r",
      "remote: Counting objects:  82% (72/87)\u001b[K\r",
      "remote: Counting objects:  83% (73/87)\u001b[K\r",
      "remote: Counting objects:  85% (74/87)\u001b[K\r",
      "remote: Counting objects:  86% (75/87)\u001b[K\r",
      "remote: Counting objects:  87% (76/87)\u001b[K\r",
      "remote: Counting objects:  88% (77/87)\u001b[K\r",
      "remote: Counting objects:  89% (78/87)\u001b[K\r",
      "remote: Counting objects:  90% (79/87)\u001b[K\r",
      "remote: Counting objects:  91% (80/87)\u001b[K\r",
      "remote: Counting objects:  93% (81/87)\u001b[K\r",
      "remote: Counting objects:  94% (82/87)\u001b[K\r",
      "remote: Counting objects:  95% (83/87)\u001b[K\r",
      "remote: Counting objects:  96% (84/87)\u001b[K\r",
      "remote: Counting objects:  97% (85/87)\u001b[K\r",
      "remote: Counting objects:  98% (86/87)\u001b[K\r",
      "remote: Counting objects: 100% (87/87)\u001b[K\r",
      "remote: Counting objects: 100% (87/87), done.\u001b[K\n",
      "remote: Compressing objects: 100% (77/77), done.\u001b[K\n",
      "remote: Total 87 (delta 42), reused 35 (delta 8), pack-reused 0\u001b[K\n",
      "Unpacking objects: 100% (87/87), done.\n"
     ]
    }
   ],
   "source": [
    "!git clone https://github.com/omkarsk98/NewsDataClassification.git"
   ]
  },
  {
   "cell_type": "markdown",
   "metadata": {
    "colab_type": "text",
    "id": "1FmiqMubHZ_a"
   },
   "source": [
    "Go the directory and checkout to the required folder"
   ]
  },
  {
   "cell_type": "code",
   "execution_count": 4,
   "metadata": {
    "ExecuteTime": {
     "end_time": "2020-07-05T20:40:30.417567Z",
     "start_time": "2020-07-05T20:40:29.573673Z"
    },
    "colab": {
     "base_uri": "https://localhost:8080/",
     "height": 68
    },
    "colab_type": "code",
    "id": "Y8wVHW5d00z1",
    "outputId": "865c6091-5525-480b-cc73-d454aa9f4402"
   },
   "outputs": [
    {
     "name": "stdout",
     "output_type": "stream",
     "text": [
      "[Errno 2] No such file or directory: 'NewsDataClassification'\n",
      "/Users/tawfiqam/Desktop/EmbeddingsTest/NewsDataClassification\n",
      "Already on 'development'\n",
      "Your branch is up to date with 'origin/development'.\n"
     ]
    }
   ],
   "source": [
    "%cd NewsDataClassification\n",
    "!git checkout development"
   ]
  },
  {
   "cell_type": "markdown",
   "metadata": {
    "colab_type": "text",
    "id": "WZiinfyg54Ta"
   },
   "source": [
    "Download trained model and unzip it."
   ]
  },
  {
   "cell_type": "code",
   "execution_count": 7,
   "metadata": {
    "ExecuteTime": {
     "end_time": "2020-07-05T20:46:55.879484Z",
     "start_time": "2020-07-05T20:46:55.500650Z"
    },
    "colab": {
     "base_uri": "https://localhost:8080/",
     "height": 204
    },
    "colab_type": "code",
    "id": "qTChM-bd_umC",
    "outputId": "e41e9621-931c-488d-a0d8-a3b21e7598e3"
   },
   "outputs": [
    {
     "name": "stdout",
     "output_type": "stream",
     "text": [
      "/bin/sh: wget: command not found\n",
      "gunzip: can't stat: GoogleNews-vectors-negative300.bin.gz (GoogleNews-vectors-negative300.bin.gz.gz): No such file or directory\n"
     ]
    }
   ],
   "source": [
    "#!pip install wget\n",
    "!wget -c \"https://s3.amazonaws.com/dl4j-distribution/GoogleNews-vectors-negative300.bin.gz\"\n",
    "!gunzip GoogleNews-vectors-negative300.bin.gz"
   ]
  },
  {
   "cell_type": "markdown",
   "metadata": {
    "colab_type": "text",
    "id": "b5leTMSU5-wT"
   },
   "source": [
    "Download nltk libraries and dependencies"
   ]
  },
  {
   "cell_type": "code",
   "execution_count": 8,
   "metadata": {
    "ExecuteTime": {
     "end_time": "2020-07-05T20:53:33.541527Z",
     "start_time": "2020-07-05T20:53:33.311111Z"
    },
    "colab": {
     "base_uri": "https://localhost:8080/",
     "height": 102
    },
    "colab_type": "code",
    "id": "OJDZ2gA83IWg",
    "outputId": "4be9fea0-5d2b-43f9-8a67-4d2c1839520c"
   },
   "outputs": [
    {
     "name": "stderr",
     "output_type": "stream",
     "text": [
      "[nltk_data] Downloading package punkt to /Users/tawfiqam/nltk_data...\n",
      "[nltk_data]   Package punkt is already up-to-date!\n",
      "[nltk_data] Downloading package stopwords to\n",
      "[nltk_data]     /Users/tawfiqam/nltk_data...\n",
      "[nltk_data]   Package stopwords is already up-to-date!\n"
     ]
    },
    {
     "data": {
      "text/plain": [
       "True"
      ]
     },
     "execution_count": 8,
     "metadata": {},
     "output_type": "execute_result"
    }
   ],
   "source": [
    "import nltk\n",
    "nltk.download('punkt')\n",
    "nltk.download('stopwords')  "
   ]
  },
  {
   "cell_type": "markdown",
   "metadata": {
    "colab_type": "text",
    "id": "Og2mnsbQ6EzL"
   },
   "source": [
    "import all required libraries"
   ]
  },
  {
   "cell_type": "code",
   "execution_count": 9,
   "metadata": {
    "ExecuteTime": {
     "end_time": "2020-07-05T20:53:38.832142Z",
     "start_time": "2020-07-05T20:53:38.723179Z"
    },
    "colab": {},
    "colab_type": "code",
    "id": "c8ozUYJ3oXO0"
   },
   "outputs": [],
   "source": [
    "import pandas as pd\n",
    "from gensim import models\n",
    "from sklearn.linear_model import LogisticRegression\n",
    "import numpy as np\n",
    "from nltk.tokenize import word_tokenize\n",
    "from nltk.corpus import stopwords\n",
    "from sklearn.metrics import accuracy_score ,confusion_matrix\n",
    "import time\n",
    "from sklearn.manifold import TSNE"
   ]
  },
  {
   "cell_type": "code",
   "execution_count": 10,
   "metadata": {
    "ExecuteTime": {
     "end_time": "2020-07-05T20:59:12.112815Z",
     "start_time": "2020-07-05T20:53:42.770002Z"
    },
    "colab": {
     "base_uri": "https://localhost:8080/",
     "height": 88
    },
    "colab_type": "code",
    "id": "55YAVl-Oua1m",
    "outputId": "be51c26a-45ae-4b29-b741-3566835a27be"
   },
   "outputs": [
    {
     "name": "stdout",
     "output_type": "stream",
     "text": [
      "Dimensions of the model 300\n"
     ]
    }
   ],
   "source": [
    "# Load word2vec model (trained on Google's corpus)\n",
    "model = models.KeyedVectors.load_word2vec_format('GoogleNews-vectors-negative300.bin', binary = True) \n",
    "# Check dimension of word vectors\n",
    "print(\"Dimensions of the model\",model.vector_size)"
   ]
  },
  {
   "cell_type": "markdown",
   "metadata": {
    "colab_type": "text",
    "id": "7p8AmIVB6KPk"
   },
   "source": [
    "Read the raw data and set max records to be used"
   ]
  },
  {
   "cell_type": "code",
   "execution_count": 11,
   "metadata": {
    "ExecuteTime": {
     "end_time": "2020-07-05T21:03:58.565037Z",
     "start_time": "2020-07-05T21:03:54.941385Z"
    },
    "colab": {
     "base_uri": "https://localhost:8080/",
     "height": 71
    },
    "colab_type": "code",
    "id": "w70GDVH6tL1r",
    "outputId": "6b392128-1f84-4279-922b-d5d5a50514b8"
   },
   "outputs": [
    {
     "name": "stderr",
     "output_type": "stream",
     "text": [
      "/Users/tawfiqam/opt/anaconda3/lib/python3.7/site-packages/IPython/core/interactiveshell.py:3063: DtypeWarning: Columns (11) have mixed types.Specify dtype option on import or set low_memory=False.\n",
      "  interactivity=interactivity, compiler=compiler, result=result)\n"
     ]
    }
   ],
   "source": [
    "# read csv\n",
    "main_data = pd.read_csv('News_Final.csv')\n",
    "\n",
    "# read titles from it\n",
    "article_titles = main_data['TITLE']\n",
    "labels = main_data[\"CATEGORY\"]\n",
    "\n",
    "# Create a list of strings, one for each title\n",
    "titles_list = [title for title in article_titles]\n",
    "# form a single string fro the list of strings\n",
    "big_title_string = ' '.join(titles_list)\n",
    "\n",
    "# define total records to be considered for analysis\n",
    "total = 50000\n",
    "# 422178 total records as max value"
   ]
  },
  {
   "cell_type": "markdown",
   "metadata": {
    "colab_type": "text",
    "id": "tzMgB8HD6dbT"
   },
   "source": [
    "Tokenise all words and get stop words for english"
   ]
  },
  {
   "cell_type": "code",
   "execution_count": 12,
   "metadata": {
    "ExecuteTime": {
     "end_time": "2020-07-05T21:04:55.205526Z",
     "start_time": "2020-07-05T21:04:05.196690Z"
    },
    "colab": {},
    "colab_type": "code",
    "id": "9WqUDhgQJaIQ"
   },
   "outputs": [],
   "source": [
    "# Tokenize the string into words\n",
    "tokens = word_tokenize(big_title_string)\n",
    "\n",
    "# Remove non-alphabetic tokens, such as punctuation\n",
    "words = [word.lower() for word in tokens if word.isalpha()]\n",
    "stop_words = set(stopwords.words('english'))"
   ]
  },
  {
   "cell_type": "markdown",
   "metadata": {
    "colab_type": "text",
    "id": "Uo5Yg-u06i7I"
   },
   "source": [
    "Define all the function that can be used for later stage"
   ]
  },
  {
   "cell_type": "code",
   "execution_count": 13,
   "metadata": {
    "ExecuteTime": {
     "end_time": "2020-07-05T21:05:29.124308Z",
     "start_time": "2020-07-05T21:05:28.523416Z"
    },
    "colab": {},
    "colab_type": "code",
    "id": "P_h-pzrEzhNS"
   },
   "outputs": [],
   "source": [
    "def document_vector(word2vec_model, doc):\n",
    "    # remove out-of-vocabulary words\n",
    "    doc = [word for word in doc if word in model.vocab]\n",
    "    return np.mean(model[doc], axis=0)\n",
    "\n",
    "# Our earlier preprocessing was done when we were dealing only with word vectors\n",
    "# Here, we need each document to remain a document \n",
    "def preprocess(text):\n",
    "    text = text.lower()\n",
    "    doc = word_tokenize(text)\n",
    "    doc = [word for word in doc if word not in stop_words]\n",
    "    doc = [word for word in doc if word.isalpha()] \n",
    "    return doc\n",
    "\n",
    "# Function that will help us drop documents that have no word vectors in word2vec\n",
    "def has_vector_representation(word2vec_model, doc):\n",
    "    \"\"\"check if at least one word of the document is in the\n",
    "    word2vec dictionary\"\"\"\n",
    "    return not all(word not in word2vec_model.vocab for word in doc)\n",
    "\n",
    "# Filter out documents\n",
    "def filter_docs(corpus, texts, labels, condition_on_doc):\n",
    "    \"\"\"\n",
    "    Filter corpus and texts given the function condition_on_doc which takes a doc. The document doc is kept if condition_on_doc(doc) is true.\n",
    "    \"\"\"\n",
    "    number_of_docs = len(corpus)\n",
    "    \n",
    "    if texts is not None:\n",
    "        texts = [text for (text, doc) in zip(texts, corpus)\n",
    "                 if condition_on_doc(doc)]\n",
    "    \n",
    "\n",
    "    corpus = [doc for doc in corpus if condition_on_doc(doc)]\n",
    "    \n",
    "    final_labels = []\n",
    "    for i in range(len(corpus)):\n",
    "      if condition_on_doc(corpus[i]):\n",
    "        final_labels.append(labels[i])\n",
    "    \n",
    "    print(\"{} docs removed\".format(number_of_docs - len(corpus)))\n",
    "\n",
    "    return (corpus, texts, final_labels)"
   ]
  },
  {
   "cell_type": "markdown",
   "metadata": {
    "colab_type": "text",
    "id": "zNpB7L-a6njk"
   },
   "source": [
    "Remove stop words, non vocab words, empty docs and prepare vector for each title"
   ]
  },
  {
   "cell_type": "code",
   "execution_count": 14,
   "metadata": {
    "ExecuteTime": {
     "end_time": "2020-07-05T21:09:02.252631Z",
     "start_time": "2020-07-05T21:05:41.660128Z"
    },
    "colab": {
     "base_uri": "https://localhost:8080/",
     "height": 85
    },
    "colab_type": "code",
    "id": "n-19jVUuzsHe",
    "outputId": "a6a400d5-d505-4432-e6fb-ddef8226fb99"
   },
   "outputs": [
    {
     "name": "stdout",
     "output_type": "stream",
     "text": [
      "240 docs removed\n",
      "1st filter: Length of corpus:422179, Length of titles_list:422179, Length of labels:422179\n",
      "0 docs removed\n",
      "2nd filter: Length of corpus:422179, Length of titles_list:422179, Length of labels:422179\n"
     ]
    }
   ],
   "source": [
    "# # Preprocess the corpus to get list of documents with stop words removed and containing only the words that are present in the vocab\n",
    "corpus = [preprocess(title) for title in titles_list]\n",
    "# # still contains all the documents, nothing is filtered\n",
    "\n",
    "# # Remove docs that don't include any words in W2V's vocab\n",
    "corpus, titles_list, labels = filter_docs(corpus, titles_list, labels, lambda doc: has_vector_representation(model, doc))\n",
    "print(\"1st filter: Length of corpus:\"+str(len(corpus))+\", Length of titles_list:\"+ str(len(titles_list))+\", Length of labels:\"+str(len(labels)))\n",
    "\n",
    "# # Filter out any empty docs\n",
    "corpus, titles_list, labels = filter_docs(corpus, titles_list, labels, lambda doc: (len(doc) != 0))\n",
    "print(\"2nd filter: Length of corpus:\"+str(len(corpus))+\", Length of titles_list:\"+ str(len(titles_list))+\", Length of labels:\"+str(len(labels)))\n",
    "\n",
    "x = []\n",
    "for doc in corpus: # append the vector for each document\n",
    "    x.append(document_vector(model, doc))"
   ]
  },
  {
   "cell_type": "markdown",
   "metadata": {
    "colab_type": "text",
    "id": "C8Tp1BD1ibrf"
   },
   "source": [
    "# **After removing stop words and empty docs** <br>\n",
    "\n",
    "---\n",
    "241 docs removed <br>\n",
    "1st filter: Length of corpus:422178, Length of titles_list:422178, Length of labels:422178 <br>\n",
    "0 docs removed <br>\n",
    "2nd filter: Length of corpus:422178, Length of titles_list:422178, Length of labels:422178 <br>"
   ]
  },
  {
   "cell_type": "code",
   "execution_count": 15,
   "metadata": {
    "ExecuteTime": {
     "end_time": "2020-07-05T22:12:56.945713Z",
     "start_time": "2020-07-05T22:12:44.397511Z"
    },
    "colab": {
     "base_uri": "https://localhost:8080/",
     "height": 34
    },
    "colab_type": "code",
    "id": "Md8PjWZJVqrO",
    "outputId": "d5c397e3-f1b7-4d97-e033-c9e2dbdd5014"
   },
   "outputs": [
    {
     "data": {
      "text/plain": [
       "((422179, 300), (422179, 1))"
      ]
     },
     "execution_count": 15,
     "metadata": {},
     "output_type": "execute_result"
    }
   ],
   "source": [
    "vectorsForEachDocument = np.array(x) # list to array\n",
    "labels = np.array(labels)\n",
    "labels = labels.reshape(labels.shape[0],1)\n",
    "vectorsForEachDocument.shape, labels.shape"
   ]
  },
  {
   "cell_type": "markdown",
   "metadata": {
    "colab_type": "text",
    "id": "v-pmoZA-of0k"
   },
   "source": [
    "# **Vectors for each title** \n",
    "\n",
    "---\n",
    "A list of vectors of 300 dimensions each for all the titles and labels contain the respective labels<br>\n",
    "Shape of these vectors is (422178, 300) <br>\n",
    "Shape pf it respective labels (422178, 1)"
   ]
  },
  {
   "cell_type": "markdown",
   "metadata": {
    "colab_type": "text",
    "id": "dToFAFzWpPi5"
   },
   "source": [
    "# **Filter improper labels**\n",
    "\n",
    "---\n",
    "Filter out the data that has improper labels. Labels should only be of the following types. <br>\n",
    "1. b: business\n",
    "2. t: technology\n",
    "3. e: entertainment\n",
    "4. m: health"
   ]
  },
  {
   "cell_type": "code",
   "execution_count": 16,
   "metadata": {
    "ExecuteTime": {
     "end_time": "2020-07-05T22:13:23.277155Z",
     "start_time": "2020-07-05T22:13:22.237569Z"
    },
    "colab": {
     "base_uri": "https://localhost:8080/",
     "height": 34
    },
    "colab_type": "code",
    "id": "T28DgqDk4M93",
    "outputId": "972c37c4-d04a-4841-ed92-9f5459f1ee74"
   },
   "outputs": [
    {
     "data": {
      "text/plain": [
       "((50000, 300), (50000, 1))"
      ]
     },
     "execution_count": 16,
     "metadata": {},
     "output_type": "execute_result"
    }
   ],
   "source": [
    "# filter out data that has improper labels\n",
    "possibleLabels = [\"b\",\"t\",\"e\",\"m\"]\n",
    "finalLabels = []\n",
    "features = []\n",
    "for i in range(len(labels)):\n",
    "  if labels[i] in possibleLabels:\n",
    "    finalLabels.append(labels[i])\n",
    "    features.append(vectorsForEachDocument[i])\n",
    "  if(len(finalLabels)==total):\n",
    "    break\n",
    "\n",
    "\n",
    "features = np.array(features)\n",
    "labels = np.array(finalLabels)\n",
    "labels = labels.reshape(labels.shape[0],1)\n",
    "features.shape, labels.shape"
   ]
  },
  {
   "cell_type": "markdown",
   "metadata": {
    "colab_type": "text",
    "id": "dT1O6Fg30g9j"
   },
   "source": [
    "# **Create a dataframe to shuffle it**\n",
    "\n",
    "---\n",
    "Create dataframe to shuffle it and split it."
   ]
  },
  {
   "cell_type": "code",
   "execution_count": 17,
   "metadata": {
    "ExecuteTime": {
     "end_time": "2020-07-05T22:14:03.651683Z",
     "start_time": "2020-07-05T22:13:31.543466Z"
    },
    "colab": {
     "base_uri": "https://localhost:8080/",
     "height": 34
    },
    "colab_type": "code",
    "id": "lc40d1IU7txC",
    "outputId": "f5daf732-bf50-4792-f1b8-5e064473faeb"
   },
   "outputs": [
    {
     "data": {
      "text/plain": [
       "((50000, 300), (50000, 1))"
      ]
     },
     "execution_count": 17,
     "metadata": {},
     "output_type": "execute_result"
    }
   ],
   "source": [
    "finalData = pd.DataFrame.from_records(features)\n",
    "finalData.columns = range(1,301)\n",
    "finalData[\"labels\"] = labels\n",
    "# finalData.to_csv('FinalData.csv')\n",
    "data = finalData.sample(frac=1) #shuffles the data\n",
    "labels = data[\"labels\"]\n",
    "labels = np.array(labels) \n",
    "labels = labels.reshape(labels.shape[0],1)\n",
    "del data[\"labels\"]\n",
    "features = np.array(data)\n",
    "features.shape, labels.shape"
   ]
  },
  {
   "cell_type": "markdown",
   "metadata": {
    "colab_type": "text",
    "id": "17fLx5KcBoI8"
   },
   "source": [
    "# Split the data\n",
    "---\n",
    "**Train Data**: Use 80% of the data for training purpose. <br>\n",
    "**Test Data**: Use 20% of the data for testing purpose. <br>\n",
    "**Features**: Use 300 dimensional vectors as features. It can be found in `vectorsForEachDocument`.<br>\n",
    "**Labels**: Use the categories as labels. I can be found in `labels`.<br>"
   ]
  },
  {
   "cell_type": "code",
   "execution_count": 18,
   "metadata": {
    "ExecuteTime": {
     "end_time": "2020-07-05T22:14:15.484532Z",
     "start_time": "2020-07-05T22:14:15.432721Z"
    },
    "colab": {
     "base_uri": "https://localhost:8080/",
     "height": 34
    },
    "colab_type": "code",
    "id": "YvfSgoRmBdIp",
    "outputId": "db7c66c8-0335-42d8-b9af-1ce5d83c8fe9"
   },
   "outputs": [
    {
     "data": {
      "text/plain": [
       "((40000, 300), (40000, 1), (10000, 300), (10000, 1))"
      ]
     },
     "execution_count": 18,
     "metadata": {},
     "output_type": "execute_result"
    }
   ],
   "source": [
    "train = int((80/100)*len(features))\n",
    "trainFeatures, testFeatures = features[:train], features[train:]\n",
    "trainLabels, testLabels = labels[:train], labels[train:]\n",
    "trainFeatures.shape, trainLabels.shape, testFeatures.shape, testLabels.shape"
   ]
  },
  {
   "cell_type": "markdown",
   "metadata": {
    "colab_type": "text",
    "id": "KPMISgZnDsB6"
   },
   "source": [
    "**Shapes of the data** <br>\n",
    "trainFeatures: (160000,300) <br>\n",
    "trainLabels: (160000,1) <br>\n",
    "testFeatures: (40000,300) <br>\n",
    "testLabels: (40000,1) <br>"
   ]
  },
  {
   "cell_type": "markdown",
   "metadata": {
    "colab_type": "text",
    "id": "a60mKGCXHvx8"
   },
   "source": [
    "# **Train the logistic regression model** <br>"
   ]
  },
  {
   "cell_type": "code",
   "execution_count": 19,
   "metadata": {
    "ExecuteTime": {
     "end_time": "2020-07-05T22:14:36.643053Z",
     "start_time": "2020-07-05T22:14:27.506645Z"
    },
    "colab": {
     "base_uri": "https://localhost:8080/",
     "height": 105
    },
    "colab_type": "code",
    "id": "87M4P4AJHccd",
    "outputId": "d871e48c-e2fb-44d5-b551-01576e3e4f9a"
   },
   "outputs": [
    {
     "name": "stderr",
     "output_type": "stream",
     "text": [
      "/Users/tawfiqam/opt/anaconda3/lib/python3.7/site-packages/sklearn/utils/validation.py:760: DataConversionWarning: A column-vector y was passed when a 1d array was expected. Please change the shape of y to (n_samples, ), for example using ravel().\n",
      "  y = column_or_1d(y, warn=True)\n"
     ]
    },
    {
     "name": "stdout",
     "output_type": "stream",
     "text": [
      "85.39%\n",
      "Time taken:9.088640928268433 seconds\n"
     ]
    }
   ],
   "source": [
    "tic = time.time()\n",
    "logistic_Regression = LogisticRegression(multi_class=\"auto\", solver=\"lbfgs\", max_iter=1000)\n",
    "logistic_Regression.fit(trainFeatures,trainLabels)\n",
    "Y_predict = logistic_Regression.predict(testFeatures)\n",
    "print(str((accuracy_score(testLabels,Y_predict)*100))+\"%\")\n",
    "toc = time.time()\n",
    "print(\"Time taken:\"+str(toc-tic)+\" seconds\")"
   ]
  },
  {
   "cell_type": "markdown",
   "metadata": {
    "colab_type": "text",
    "id": "8dB0ddhLqZux"
   },
   "source": [
    "# **Outcomes of the training** <br>\n",
    "\n",
    "---\n",
    "|Train |Test |Dimensions |Accuracy |Time(sec) | Comments |\n",
    "|---|---|---|---|---|---|\n",
    "|40000|10000|300|86|12|Data randomly shuffled|\n",
    "|80000|20000|300|78|53||\n",
    "|40000|10000|300|74|12||\n",
    "|80000|20000|300|78|53||\n",
    "|24000|6000|300|73|11||\n",
    "|160000|40000|300|72|53||\n"
   ]
  },
  {
   "cell_type": "markdown",
   "metadata": {
    "colab_type": "text",
    "id": "H3nInS38OoiW"
   },
   "source": [
    "**Precision and recall**\n",
    "\n",
    "---\n",
    "Calculating precision and recall using sklearn.metrics.precision_recall_fscore_support.<br>\n",
    "Precision is the fraction of relevant instances among the retrieved instances, while recall is the fraction of the total amount of relevant instances that were actually retrieved.\n",
    "\n"
   ]
  },
  {
   "cell_type": "code",
   "execution_count": 20,
   "metadata": {
    "ExecuteTime": {
     "end_time": "2020-07-05T22:15:01.295255Z",
     "start_time": "2020-07-05T22:15:01.167613Z"
    },
    "colab": {
     "base_uri": "https://localhost:8080/",
     "height": 68
    },
    "colab_type": "code",
    "id": "jTPnPUaX4kM7",
    "outputId": "e00b0191-d5bc-4370-f8e4-3c00b6a30fb0"
   },
   "outputs": [
    {
     "name": "stdout",
     "output_type": "stream",
     "text": [
      "For labels in sequence as ['b', 't', 'e', 'm']\n",
      "precision: [82.15231788 82.61405672 88.90814558 89.40092166]\n",
      "recall: [83.90260399 79.6039604  92.23853761 82.13378493]\n"
     ]
    }
   ],
   "source": [
    "from sklearn.metrics import precision_recall_fscore_support as score\n",
    "precision, recall, fscore, support = score(testLabels, Y_predict, labels=possibleLabels)\n",
    "print(\"For labels in sequence as\",possibleLabels)\n",
    "print('precision: {}'.format(precision*100))\n",
    "print('recall: {}'.format(recall*100))"
   ]
  },
  {
   "cell_type": "markdown",
   "metadata": {
    "colab_type": "text",
    "id": "HOcBD_hrQF5M"
   },
   "source": [
    "**Result of precision and recall**\n",
    "\n",
    "---\n",
    "\n",
    "For labels in sequence as ['b', 't', 'e', 'm'] <br>\n",
    "precision: [82.94729775 83.25883787 89.44781729 87.46594005] <br>\n",
    "recall: [84.79752917 80.92417062 91.4843288  82.16723549] <br>"
   ]
  },
  {
   "cell_type": "code",
   "execution_count": 21,
   "metadata": {
    "ExecuteTime": {
     "end_time": "2020-07-05T22:15:44.808408Z",
     "start_time": "2020-07-05T22:15:16.514259Z"
    },
    "colab": {
     "base_uri": "https://localhost:8080/",
     "height": 1000
    },
    "colab_type": "code",
    "id": "dnWCGgFwVwsS",
    "outputId": "fef146ec-34e4-4630-8939-c0b846b031d9"
   },
   "outputs": [
    {
     "data": {
      "image/png": "[encoded data removed]",
      "text/plain": [
       "<Figure size 432x288 with 1 Axes>"
      ]
     },
     "metadata": {
      "needs_background": "light"
     },
     "output_type": "display_data"
    },
    {
     "data": {
      "image/png": "[encoded data removed]",
      "text/plain": [
       "<Figure size 432x288 with 1 Axes>"
      ]
     },
     "metadata": {
      "needs_background": "light"
     },
     "output_type": "display_data"
    },
    {
     "data": {
      "image/png": "[encoded data removed]",
      "text/plain": [
       "<Figure size 432x288 with 1 Axes>"
      ]
     },
     "metadata": {
      "needs_background": "light"
     },
     "output_type": "display_data"
    },
    {
     "data": {
      "image/png": "[encoded data removed]",
      "text/plain": [
       "<Figure size 432x288 with 1 Axes>"
      ]
     },
     "metadata": {
      "needs_background": "light"
     },
     "output_type": "display_data"
    }
   ],
   "source": [
    "from sklearn import metrics\n",
    "from sklearn.multiclass import OneVsRestClassifier\n",
    "from sklearn.metrics import roc_curve, auc\n",
    "from sklearn.preprocessing import label_binarize\n",
    "import matplotlib.pyplot as plt\n",
    "\n",
    "testLabelsBinary = label_binarize(testLabels, classes=possibleLabels)\n",
    "trainLabelsBinary = label_binarize(trainLabels, classes=possibleLabels)\n",
    "\n",
    "# classifier\n",
    "clf = OneVsRestClassifier(LogisticRegression(solver='sag'), n_jobs=1)\n",
    "y_score = clf.fit(trainFeatures, trainLabelsBinary).decision_function(testFeatures)\n",
    "\n",
    "fpr = dict()\n",
    "tpr = dict()\n",
    "roc_auc = dict()\n",
    "\n",
    "for i in range(4):\n",
    "    fpr[i], tpr[i], _ = roc_curve(testLabelsBinary[:, i], y_score[:, i])\n",
    "    roc_auc[i] = auc(fpr[i], tpr[i])\n",
    "\n",
    "for i in range(4):\n",
    "    plt.figure()\n",
    "    plt.plot(fpr[i], tpr[i], label='ROC curve (area = %0.2f)' % roc_auc[i])\n",
    "    plt.plot([0, 1], [0, 1], 'k--')\n",
    "    plt.xlim([0.0, 1.0])\n",
    "    plt.ylim([0.0, 1.05])\n",
    "    plt.xlabel('False Positive Rate')\n",
    "    plt.ylabel('True Positive Rate')\n",
    "    title = 'ROC for '+possibleLabels[i]\n",
    "    plt.title(title)\n",
    "    plt.legend(loc=\"lower right\")\n",
    "    plt.show()\n"
   ]
  }
 ],
 "metadata": {
  "colab": {
   "collapsed_sections": [],
   "include_colab_link": true,
   "machine_shape": "hm",
   "name": "NewsDataClassification.ipynb",
   "provenance": []
  },
  "kernelspec": {
   "display_name": "Python 3",
   "language": "python",
   "name": "python3"
  },
  "language_info": {
   "codemirror_mode": {
    "name": "ipython",
    "version": 3
   },
   "file_extension": ".py",
   "mimetype": "text/x-python",
   "name": "python",
   "nbconvert_exporter": "python",
   "pygments_lexer": "ipython3",
   "version": "3.7.7"
  }
 },
 "nbformat": 4,
 "nbformat_minor": 1
}
