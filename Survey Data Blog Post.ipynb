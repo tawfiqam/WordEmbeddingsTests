{
 "cells": [
  {
   "cell_type": "markdown",
   "metadata": {},
   "source": [
    "# Cleaning, Analyzing, and Visualizing Survey Data in Python\n",
    "\n",
    "## A tutorial using `pandas`, `matplotlib`, and `seaborn` to produce digestible insights from dirty data"
   ]
  },
  {
   "cell_type": "markdown",
   "metadata": {},
   "source": [
    "If you work in data at a D2C startup, there's a good chance you will be asked to look at survey data at least once. And since SurveyMonkey is one of the most popular survey platforms out there, there's a good chance it'll be SurveyMonkey data.\n",
    "\n",
    "The way SurveyMonkey exports data is not necessarily ready for analysis right out of the box, but it's pretty close. Here I'll demonstrate a few examples of questions you might want to ask of your survey data, and how to extract those answers quickly. We'll even write a few functions to make our lives easier when plotting future questions.\n",
    "\n",
    "We'll be using `pandas`, `matplotlib`, and `seaborn` to make sense of our data. I used [Mockaroo](https://mockaroo.com/) to generate this data; specifically, for the survey question fields, I used \"Custom List\" and entered in the appropriate fields. You could achieve the same effect by using `random.choice` in the `random` module, but I found it easier to let Mockaroo create the whole thing for me. I then tweaked the data in Excel so that it mirrored the structure of a SurveyMonkey export."
   ]
  },
  {
   "cell_type": "code",
   "execution_count": 1,
   "metadata": {},
   "outputs": [],
   "source": [
    "import pandas as pd\n",
    "import numpy as np\n",
    "import matplotlib.pyplot as plt\n",
    "import seaborn as sns\n",
    "\n",
    "%matplotlib inline\n",
    "sns.set_style('ticks')\n",
    "\n",
    "import warnings\n",
    "warnings.filterwarnings('ignore')"
   ]
  },
  {
   "cell_type": "code",
   "execution_count": 2,
   "metadata": {},
   "outputs": [
    {
     "data": {
      "text/html": [
       "<div>\n",
       "<style scoped>\n",
       "    .dataframe tbody tr th:only-of-type {\n",
       "        vertical-align: middle;\n",
       "    }\n",
       "\n",
       "    .dataframe tbody tr th {\n",
       "        vertical-align: top;\n",
       "    }\n",
       "\n",
       "    .dataframe thead th {\n",
       "        text-align: right;\n",
       "    }\n",
       "</style>\n",
       "<table border=\"1\" class=\"dataframe\">\n",
       "  <thead>\n",
       "    <tr style=\"text-align: right;\">\n",
       "      <th></th>\n",
       "      <th>id</th>\n",
       "      <th>What is your gender?</th>\n",
       "      <th>What is your age?</th>\n",
       "      <th>What was the most important consideration for you in choosing this product?</th>\n",
       "      <th>Unnamed: 4</th>\n",
       "      <th>Unnamed: 5</th>\n",
       "      <th>Unnamed: 6</th>\n",
       "      <th>How interested are you in the following benefits?</th>\n",
       "      <th>Unnamed: 8</th>\n",
       "      <th>Unnamed: 9</th>\n",
       "      <th>Unnamed: 10</th>\n",
       "    </tr>\n",
       "  </thead>\n",
       "  <tbody>\n",
       "    <tr>\n",
       "      <th>0</th>\n",
       "      <td>NaN</td>\n",
       "      <td>gender</td>\n",
       "      <td>age</td>\n",
       "      <td>Location</td>\n",
       "      <td>Price</td>\n",
       "      <td>Positive Reviews</td>\n",
       "      <td>Personalization</td>\n",
       "      <td>Custom dashboard templates</td>\n",
       "      <td>SQL tutorials</td>\n",
       "      <td>More drag-and-drop features</td>\n",
       "      <td>More ready-made formulas</td>\n",
       "    </tr>\n",
       "    <tr>\n",
       "      <th>1</th>\n",
       "      <td>1.0</td>\n",
       "      <td>Female</td>\n",
       "      <td>35</td>\n",
       "      <td>Location</td>\n",
       "      <td>NaN</td>\n",
       "      <td>NaN</td>\n",
       "      <td>NaN</td>\n",
       "      <td>Neutral</td>\n",
       "      <td>Very interested</td>\n",
       "      <td>Somewhat interested</td>\n",
       "      <td>Very interested</td>\n",
       "    </tr>\n",
       "    <tr>\n",
       "      <th>2</th>\n",
       "      <td>2.0</td>\n",
       "      <td>Female</td>\n",
       "      <td>34</td>\n",
       "      <td>Location</td>\n",
       "      <td>NaN</td>\n",
       "      <td>NaN</td>\n",
       "      <td>NaN</td>\n",
       "      <td>Somewhat uninterested</td>\n",
       "      <td>Very interested</td>\n",
       "      <td>Neutral</td>\n",
       "      <td>Somewhat interested</td>\n",
       "    </tr>\n",
       "    <tr>\n",
       "      <th>3</th>\n",
       "      <td>3.0</td>\n",
       "      <td>Female</td>\n",
       "      <td>19</td>\n",
       "      <td>NaN</td>\n",
       "      <td>Price</td>\n",
       "      <td>NaN</td>\n",
       "      <td>NaN</td>\n",
       "      <td>Somewhat uninterested</td>\n",
       "      <td>Neutral</td>\n",
       "      <td>Somewhat interested</td>\n",
       "      <td>Very interested</td>\n",
       "    </tr>\n",
       "    <tr>\n",
       "      <th>4</th>\n",
       "      <td>4.0</td>\n",
       "      <td>Female</td>\n",
       "      <td>47</td>\n",
       "      <td>NaN</td>\n",
       "      <td>Price</td>\n",
       "      <td>NaN</td>\n",
       "      <td>NaN</td>\n",
       "      <td>Somewhat uninterested</td>\n",
       "      <td>Neutral</td>\n",
       "      <td>Neutral</td>\n",
       "      <td>Somewhat interested</td>\n",
       "    </tr>\n",
       "  </tbody>\n",
       "</table>\n",
       "</div>"
      ],
      "text/plain": [
       "    id What is your gender? What is your age?  \\\n",
       "0  NaN               gender               age   \n",
       "1  1.0               Female                35   \n",
       "2  2.0               Female                34   \n",
       "3  3.0               Female                19   \n",
       "4  4.0               Female                47   \n",
       "\n",
       "  What was the most important consideration for you in choosing this product?  \\\n",
       "0                                           Location                            \n",
       "1                                           Location                            \n",
       "2                                           Location                            \n",
       "3                                                NaN                            \n",
       "4                                                NaN                            \n",
       "\n",
       "  Unnamed: 4        Unnamed: 5       Unnamed: 6  \\\n",
       "0      Price  Positive Reviews  Personalization   \n",
       "1        NaN               NaN              NaN   \n",
       "2        NaN               NaN              NaN   \n",
       "3      Price               NaN              NaN   \n",
       "4      Price               NaN              NaN   \n",
       "\n",
       "  How interested are you in the following benefits?       Unnamed: 8  \\\n",
       "0                        Custom dashboard templates    SQL tutorials   \n",
       "1                                           Neutral  Very interested   \n",
       "2                             Somewhat uninterested  Very interested   \n",
       "3                             Somewhat uninterested          Neutral   \n",
       "4                             Somewhat uninterested          Neutral   \n",
       "\n",
       "                    Unnamed: 9               Unnamed: 10  \n",
       "0  More drag-and-drop features  More ready-made formulas  \n",
       "1          Somewhat interested           Very interested  \n",
       "2                      Neutral       Somewhat interested  \n",
       "3          Somewhat interested           Very interested  \n",
       "4                      Neutral       Somewhat interested  "
      ]
     },
     "execution_count": 2,
     "metadata": {},
     "output_type": "execute_result"
    }
   ],
   "source": [
    "survey_data = pd.read_csv('MOCK_DATA.csv')\n",
    "survey_data.head()"
   ]
  },
  {
   "cell_type": "markdown",
   "metadata": {},
   "source": [
    "Your first reaction to this might be \"Ugh. It's horrible.\" I mean, the column names didn't read in properly, there are a ton of NaNs, instead of numerical representations like 0/1 or 1/2/3/4/5 we have the actual text answers in each cell...And should we actually be reading this in with a MultiIndex?\n",
    "\n",
    "But don't worry, it's not as bad as you might think. And we're going to ignore MultiIndexes in this post. (Nobody really likes working with them anyway.) The team needs those insights ASAP--so we'll come up with some hacky solutions.\n",
    "\n",
    "First order of business: we've been asked to find how the answers to these questions vary by age group. But `age` is just an age--we don't have a column for age groups! Well, luckily for us, we can pretty easily define a function to create one."
   ]
  },
  {
   "cell_type": "code",
   "execution_count": 3,
   "metadata": {},
   "outputs": [],
   "source": [
    "def age_group(age):\n",
    "    \n",
    "    \"\"\"Creates an age bucket for each participant using the age variable.\n",
    "        Meant to be used on a DataFrame with .apply().\"\"\"\n",
    "    \n",
    "    # Convert to an int, in case the data is read in as an \"object\" (aka string)\n",
    "    age = int(age)\n",
    "    \n",
    "    if age < 30:\n",
    "        bucket = '<30'\n",
    "    \n",
    "    # Age 30 to 39 ('range' excludes upper bound)\n",
    "    if age in range(30, 40):\n",
    "        bucket = '30-39'\n",
    "        \n",
    "    if age in range(40, 50):\n",
    "        bucket = '40-49'\n",
    "        \n",
    "    if age in range(50, 60):\n",
    "        bucket = '50-59'\n",
    "   \n",
    "    if age >= 60:\n",
    "        bucket = '60+'\n",
    "\n",
    "    return bucket "
   ]
  },
  {
   "cell_type": "markdown",
   "metadata": {},
   "source": [
    "But if we try to run it like this, we'll get an error! That's because we have that first row, and its value for age is the word \"age\" instead of a number. Since the first step is to convert each age to an `int`, this will fail.\n",
    "\n",
    "We need to remove that row from the DataFrame, but it'll be useful for us later when we rename columns, so we'll save it as a separate variable. "
   ]
  },
  {
   "cell_type": "code",
   "execution_count": 4,
   "metadata": {},
   "outputs": [],
   "source": [
    "# Save it as headers, and then later we can access it via slices like a list\n",
    "headers = survey_data.loc[0]"
   ]
  },
  {
   "cell_type": "code",
   "execution_count": 5,
   "metadata": {},
   "outputs": [
    {
     "data": {
      "text/html": [
       "<div>\n",
       "<style scoped>\n",
       "    .dataframe tbody tr th:only-of-type {\n",
       "        vertical-align: middle;\n",
       "    }\n",
       "\n",
       "    .dataframe tbody tr th {\n",
       "        vertical-align: top;\n",
       "    }\n",
       "\n",
       "    .dataframe thead th {\n",
       "        text-align: right;\n",
       "    }\n",
       "</style>\n",
       "<table border=\"1\" class=\"dataframe\">\n",
       "  <thead>\n",
       "    <tr style=\"text-align: right;\">\n",
       "      <th></th>\n",
       "      <th>id</th>\n",
       "      <th>What is your gender?</th>\n",
       "      <th>What is your age?</th>\n",
       "      <th>What was the most important consideration for you in choosing this product?</th>\n",
       "      <th>Unnamed: 4</th>\n",
       "      <th>Unnamed: 5</th>\n",
       "      <th>Unnamed: 6</th>\n",
       "      <th>How interested are you in the following benefits?</th>\n",
       "      <th>Unnamed: 8</th>\n",
       "      <th>Unnamed: 9</th>\n",
       "      <th>Unnamed: 10</th>\n",
       "    </tr>\n",
       "  </thead>\n",
       "  <tbody>\n",
       "    <tr>\n",
       "      <th>1</th>\n",
       "      <td>1.0</td>\n",
       "      <td>Female</td>\n",
       "      <td>35</td>\n",
       "      <td>Location</td>\n",
       "      <td>NaN</td>\n",
       "      <td>NaN</td>\n",
       "      <td>NaN</td>\n",
       "      <td>Neutral</td>\n",
       "      <td>Very interested</td>\n",
       "      <td>Somewhat interested</td>\n",
       "      <td>Very interested</td>\n",
       "    </tr>\n",
       "    <tr>\n",
       "      <th>2</th>\n",
       "      <td>2.0</td>\n",
       "      <td>Female</td>\n",
       "      <td>34</td>\n",
       "      <td>Location</td>\n",
       "      <td>NaN</td>\n",
       "      <td>NaN</td>\n",
       "      <td>NaN</td>\n",
       "      <td>Somewhat uninterested</td>\n",
       "      <td>Very interested</td>\n",
       "      <td>Neutral</td>\n",
       "      <td>Somewhat interested</td>\n",
       "    </tr>\n",
       "    <tr>\n",
       "      <th>3</th>\n",
       "      <td>3.0</td>\n",
       "      <td>Female</td>\n",
       "      <td>19</td>\n",
       "      <td>NaN</td>\n",
       "      <td>Price</td>\n",
       "      <td>NaN</td>\n",
       "      <td>NaN</td>\n",
       "      <td>Somewhat uninterested</td>\n",
       "      <td>Neutral</td>\n",
       "      <td>Somewhat interested</td>\n",
       "      <td>Very interested</td>\n",
       "    </tr>\n",
       "  </tbody>\n",
       "</table>\n",
       "</div>"
      ],
      "text/plain": [
       "    id What is your gender? What is your age?  \\\n",
       "1  1.0               Female                35   \n",
       "2  2.0               Female                34   \n",
       "3  3.0               Female                19   \n",
       "\n",
       "  What was the most important consideration for you in choosing this product?  \\\n",
       "1                                           Location                            \n",
       "2                                           Location                            \n",
       "3                                                NaN                            \n",
       "\n",
       "  Unnamed: 4 Unnamed: 5 Unnamed: 6  \\\n",
       "1        NaN        NaN        NaN   \n",
       "2        NaN        NaN        NaN   \n",
       "3      Price        NaN        NaN   \n",
       "\n",
       "  How interested are you in the following benefits?       Unnamed: 8  \\\n",
       "1                                           Neutral  Very interested   \n",
       "2                             Somewhat uninterested  Very interested   \n",
       "3                             Somewhat uninterested          Neutral   \n",
       "\n",
       "            Unnamed: 9          Unnamed: 10  \n",
       "1  Somewhat interested      Very interested  \n",
       "2              Neutral  Somewhat interested  \n",
       "3  Somewhat interested      Very interested  "
      ]
     },
     "execution_count": 5,
     "metadata": {},
     "output_type": "execute_result"
    }
   ],
   "source": [
    "# .drop() defaults to axis=0, which refers to dropping items row-wise\n",
    "survey_data = survey_data.drop(0)\n",
    "survey_data.head(3)"
   ]
  },
  {
   "cell_type": "markdown",
   "metadata": {},
   "source": [
    "You will notice that, since removing `headers`, we've now lost some information when looking at the survey data by itself. Ideally, you will have a list of the questions and their options that were asked in the survey, provided to you by whoever wants the analysis. If not, you should keep a separate way to reference this info in a document or note that you can look at while working.\n",
    "\n",
    "OK, now let's apply the `age_group` function to get our `age_group` column."
   ]
  },
  {
   "cell_type": "code",
   "execution_count": 6,
   "metadata": {},
   "outputs": [
    {
     "data": {
      "text/plain": [
       "1    30-39\n",
       "2    30-39\n",
       "3      <30\n",
       "Name: age_group, dtype: object"
      ]
     },
     "execution_count": 6,
     "metadata": {},
     "output_type": "execute_result"
    }
   ],
   "source": [
    "survey_data['age_group'] = survey_data['What is your age?'].apply(age_group)\n",
    "\n",
    "survey_data['age_group'].head(3)"
   ]
  },
  {
   "cell_type": "markdown",
   "metadata": {},
   "source": [
    "Great. Next, let's subset the data to focus on just the first question. How do the answers to this first question vary by age group?"
   ]
  },
  {
   "cell_type": "code",
   "execution_count": 7,
   "metadata": {},
   "outputs": [
    {
     "data": {
      "text/html": [
       "<div>\n",
       "<style scoped>\n",
       "    .dataframe tbody tr th:only-of-type {\n",
       "        vertical-align: middle;\n",
       "    }\n",
       "\n",
       "    .dataframe tbody tr th {\n",
       "        vertical-align: top;\n",
       "    }\n",
       "\n",
       "    .dataframe thead th {\n",
       "        text-align: right;\n",
       "    }\n",
       "</style>\n",
       "<table border=\"1\" class=\"dataframe\">\n",
       "  <thead>\n",
       "    <tr style=\"text-align: right;\">\n",
       "      <th></th>\n",
       "      <th>What was the most important consideration for you in choosing this product?</th>\n",
       "      <th>Unnamed: 4</th>\n",
       "      <th>Unnamed: 5</th>\n",
       "      <th>Unnamed: 6</th>\n",
       "    </tr>\n",
       "  </thead>\n",
       "  <tbody>\n",
       "    <tr>\n",
       "      <th>1</th>\n",
       "      <td>Location</td>\n",
       "      <td>NaN</td>\n",
       "      <td>NaN</td>\n",
       "      <td>NaN</td>\n",
       "    </tr>\n",
       "    <tr>\n",
       "      <th>2</th>\n",
       "      <td>Location</td>\n",
       "      <td>NaN</td>\n",
       "      <td>NaN</td>\n",
       "      <td>NaN</td>\n",
       "    </tr>\n",
       "    <tr>\n",
       "      <th>3</th>\n",
       "      <td>NaN</td>\n",
       "      <td>Price</td>\n",
       "      <td>NaN</td>\n",
       "      <td>NaN</td>\n",
       "    </tr>\n",
       "    <tr>\n",
       "      <th>4</th>\n",
       "      <td>NaN</td>\n",
       "      <td>Price</td>\n",
       "      <td>NaN</td>\n",
       "      <td>NaN</td>\n",
       "    </tr>\n",
       "    <tr>\n",
       "      <th>5</th>\n",
       "      <td>NaN</td>\n",
       "      <td>Price</td>\n",
       "      <td>NaN</td>\n",
       "      <td>NaN</td>\n",
       "    </tr>\n",
       "  </tbody>\n",
       "</table>\n",
       "</div>"
      ],
      "text/plain": [
       "  What was the most important consideration for you in choosing this product?  \\\n",
       "1                                           Location                            \n",
       "2                                           Location                            \n",
       "3                                                NaN                            \n",
       "4                                                NaN                            \n",
       "5                                                NaN                            \n",
       "\n",
       "  Unnamed: 4 Unnamed: 5 Unnamed: 6  \n",
       "1        NaN        NaN        NaN  \n",
       "2        NaN        NaN        NaN  \n",
       "3      Price        NaN        NaN  \n",
       "4      Price        NaN        NaN  \n",
       "5      Price        NaN        NaN  "
      ]
     },
     "execution_count": 7,
     "metadata": {},
     "output_type": "execute_result"
    }
   ],
   "source": [
    "# Subset the columns from when the question \"What was the most...\" is asked, \n",
    "# through to all the available answers. Easiest to use .iloc for this\n",
    "survey_data.iloc[:5, 3:7]"
   ]
  },
  {
   "cell_type": "code",
   "execution_count": 8,
   "metadata": {},
   "outputs": [],
   "source": [
    "# Next, assign it to a separate variable corresponding to your question\n",
    "important_consideration = survey_data.iloc[:, 3:7]"
   ]
  },
  {
   "cell_type": "markdown",
   "metadata": {},
   "source": [
    "Great. We have the answers in a variable now. But when we go to plot this data, it's not going to look very good, because of the misnamed columns. Let's write up a quick function to make renaming the columns simple:"
   ]
  },
  {
   "cell_type": "code",
   "execution_count": 9,
   "metadata": {},
   "outputs": [],
   "source": [
    "def rename_columns(df, new_names_list):\n",
    "    \n",
    "    \"\"\"Takes a DataFrame that needs to be renamed and a list of the new\n",
    "        column names, and returns the renamed DataFrame. Make sure the \n",
    "        number of columns in the df matches the list length exactly,\n",
    "        or function will not work as intended.\"\"\"\n",
    "    \n",
    "    rename_dict = dict(zip(df.columns, new_names_list))\n",
    "    df = df.rename(mapper=rename_dict, axis=1)\n",
    "    \n",
    "    return df"
   ]
  },
  {
   "cell_type": "markdown",
   "metadata": {},
   "source": [
    "Remember `headers` from earlier? We can use it to create our `new_names_list` for renaming."
   ]
  },
  {
   "cell_type": "code",
   "execution_count": 10,
   "metadata": {},
   "outputs": [
    {
     "data": {
      "text/plain": [
       "array(['Location', 'Price', 'Positive Reviews', 'Personalization'],\n",
       "      dtype=object)"
      ]
     },
     "execution_count": 10,
     "metadata": {},
     "output_type": "execute_result"
    }
   ],
   "source": [
    "headers[3:7].values"
   ]
  },
  {
   "cell_type": "markdown",
   "metadata": {},
   "source": [
    "It's already an array, so we can just pass it right in, or we can rename it first for readability."
   ]
  },
  {
   "cell_type": "code",
   "execution_count": 11,
   "metadata": {},
   "outputs": [
    {
     "data": {
      "text/html": [
       "<div>\n",
       "<style scoped>\n",
       "    .dataframe tbody tr th:only-of-type {\n",
       "        vertical-align: middle;\n",
       "    }\n",
       "\n",
       "    .dataframe tbody tr th {\n",
       "        vertical-align: top;\n",
       "    }\n",
       "\n",
       "    .dataframe thead th {\n",
       "        text-align: right;\n",
       "    }\n",
       "</style>\n",
       "<table border=\"1\" class=\"dataframe\">\n",
       "  <thead>\n",
       "    <tr style=\"text-align: right;\">\n",
       "      <th></th>\n",
       "      <th>Location</th>\n",
       "      <th>Price</th>\n",
       "      <th>Positive Reviews</th>\n",
       "      <th>Personalization</th>\n",
       "      <th>age_group</th>\n",
       "    </tr>\n",
       "  </thead>\n",
       "  <tbody>\n",
       "    <tr>\n",
       "      <th>1</th>\n",
       "      <td>Location</td>\n",
       "      <td>NaN</td>\n",
       "      <td>NaN</td>\n",
       "      <td>NaN</td>\n",
       "      <td>30-39</td>\n",
       "    </tr>\n",
       "    <tr>\n",
       "      <th>2</th>\n",
       "      <td>Location</td>\n",
       "      <td>NaN</td>\n",
       "      <td>NaN</td>\n",
       "      <td>NaN</td>\n",
       "      <td>30-39</td>\n",
       "    </tr>\n",
       "    <tr>\n",
       "      <th>3</th>\n",
       "      <td>NaN</td>\n",
       "      <td>Price</td>\n",
       "      <td>NaN</td>\n",
       "      <td>NaN</td>\n",
       "      <td>&lt;30</td>\n",
       "    </tr>\n",
       "  </tbody>\n",
       "</table>\n",
       "</div>"
      ],
      "text/plain": [
       "   Location  Price Positive Reviews Personalization age_group\n",
       "1  Location    NaN              NaN             NaN     30-39\n",
       "2  Location    NaN              NaN             NaN     30-39\n",
       "3       NaN  Price              NaN             NaN       <30"
      ]
     },
     "execution_count": 11,
     "metadata": {},
     "output_type": "execute_result"
    }
   ],
   "source": [
    "ic_col_names = headers[3:7].values\n",
    "\n",
    "important_consideration = rename_columns(important_consideration, ic_col_names)\n",
    "\n",
    "# Now tack on age_group from the original DataFrame so we can use .groupby\n",
    "# (You could also use pd.concat, but I find this easier)\n",
    "important_consideration['age_group'] = survey_data['age_group']\n",
    "\n",
    "important_consideration.head(3)"
   ]
  },
  {
   "cell_type": "markdown",
   "metadata": {},
   "source": [
    "Isn't that so much nicer to look at? Don't worry, we're almost to the part where we get some insights."
   ]
  },
  {
   "cell_type": "code",
   "execution_count": 12,
   "metadata": {},
   "outputs": [
    {
     "data": {
      "text/html": [
       "<div>\n",
       "<style scoped>\n",
       "    .dataframe tbody tr th:only-of-type {\n",
       "        vertical-align: middle;\n",
       "    }\n",
       "\n",
       "    .dataframe tbody tr th {\n",
       "        vertical-align: top;\n",
       "    }\n",
       "\n",
       "    .dataframe thead th {\n",
       "        text-align: right;\n",
       "    }\n",
       "</style>\n",
       "<table border=\"1\" class=\"dataframe\">\n",
       "  <thead>\n",
       "    <tr style=\"text-align: right;\">\n",
       "      <th></th>\n",
       "      <th>Location</th>\n",
       "      <th>Price</th>\n",
       "      <th>Positive Reviews</th>\n",
       "      <th>Personalization</th>\n",
       "    </tr>\n",
       "    <tr>\n",
       "      <th>age_group</th>\n",
       "      <th></th>\n",
       "      <th></th>\n",
       "      <th></th>\n",
       "      <th></th>\n",
       "    </tr>\n",
       "  </thead>\n",
       "  <tbody>\n",
       "    <tr>\n",
       "      <th>30-39</th>\n",
       "      <td>25</td>\n",
       "      <td>14</td>\n",
       "      <td>23</td>\n",
       "      <td>17</td>\n",
       "    </tr>\n",
       "    <tr>\n",
       "      <th>40-49</th>\n",
       "      <td>23</td>\n",
       "      <td>24</td>\n",
       "      <td>19</td>\n",
       "      <td>23</td>\n",
       "    </tr>\n",
       "    <tr>\n",
       "      <th>50-59</th>\n",
       "      <td>17</td>\n",
       "      <td>22</td>\n",
       "      <td>17</td>\n",
       "      <td>21</td>\n",
       "    </tr>\n",
       "    <tr>\n",
       "      <th>60+</th>\n",
       "      <td>37</td>\n",
       "      <td>38</td>\n",
       "      <td>50</td>\n",
       "      <td>38</td>\n",
       "    </tr>\n",
       "    <tr>\n",
       "      <th>&lt;30</th>\n",
       "      <td>20</td>\n",
       "      <td>22</td>\n",
       "      <td>24</td>\n",
       "      <td>26</td>\n",
       "    </tr>\n",
       "  </tbody>\n",
       "</table>\n",
       "</div>"
      ],
      "text/plain": [
       "           Location  Price  Positive Reviews  Personalization\n",
       "age_group                                                    \n",
       "30-39            25     14                23               17\n",
       "40-49            23     24                19               23\n",
       "50-59            17     22                17               21\n",
       "60+              37     38                50               38\n",
       "<30              20     22                24               26"
      ]
     },
     "execution_count": 12,
     "metadata": {},
     "output_type": "execute_result"
    }
   ],
   "source": [
    "consideration_grouped = important_consideration.groupby('age_group').agg('count')\n",
    "\n",
    "consideration_grouped"
   ]
  },
  {
   "cell_type": "markdown",
   "metadata": {},
   "source": [
    "Notice how `groupby` and other aggregation functions ignore NaNs automatically. That makes our lives significantly easier.\n",
    "\n",
    "Let's say we also don't really care about analyzing under-30 customers right now, so we'll plot only the other age groups."
   ]
  },
  {
   "cell_type": "code",
   "execution_count": 13,
   "metadata": {},
   "outputs": [
    {
     "data": {
      "image/png": "[encoded data removed]",
      "text/plain": [
       "<Figure size 720x720 with 1 Axes>"
      ]
     },
     "metadata": {
      "needs_background": "light"
     },
     "output_type": "display_data"
    }
   ],
   "source": [
    "consideration_grouped[:-1].sort_index(ascending=False).plot(\n",
    "    kind='barh',\n",
    "    figsize=(10, 10),\n",
    "    cmap='rocket',\n",
    "    edgecolor='black',\n",
    "    fontsize=14,\n",
    "    title='Most Important Consideration By Age Group'\n",
    "    ).yaxis.label.set_visible(False)\n",
    "\n",
    "plt.savefig('sdbp_photos/consideration_by_age_large.png')"
   ]
  },
  {
   "cell_type": "markdown",
   "metadata": {},
   "source": [
    "OK, this is all well and good, but the 60+ group has more people in it than the other groups, and so it's hard to make a fair comparison. What do we do? We can plot each age group in a separate plot, and then compare the distributions.\n",
    "\n",
    "\"But wait,\" you might think. \"I don't really want to write the code for 4 different plots.\"\n",
    "\n",
    "Well of course not! Who has time for that? Let's write another function to do it for us."
   ]
  },
  {
   "cell_type": "code",
   "execution_count": 14,
   "metadata": {},
   "outputs": [],
   "source": [
    "def plot_counts_by_age_group(groupby_count_obj, age_group, ax=None):\n",
    "    \n",
    "    \"\"\"Takes a count-aggregated groupby object, an age group, and an \n",
    "    (optional) AxesSubplot, and draws a barplot for that group.\"\"\"\n",
    "    \n",
    "    sort_order = groupby_count_obj.loc[age_group].sort_index().index\n",
    "\n",
    "    sns.barplot(y = groupby_count_obj.loc[age_group].index, \n",
    "                x = groupby_count_obj.loc[age_group].values, \n",
    "                order = sort_order, \n",
    "                palette = 'rocket', edgecolor = 'black', \n",
    "                ax = ax\n",
    "                ).set_title(\"Age {}\".format(age_group))"
   ]
  },
  {
   "cell_type": "markdown",
   "metadata": {},
   "source": [
    "I believe it was [Jenny Bryan](https://twitter.com/JennyBryan?), in her wonderful talk \"Code Smells and Feels,\" who first tipped me off to the following:\n",
    "\n",
    "**If you find yourself copying and pasting code and just changing a few values, you really ought to just write a function.**\n",
    "\n",
    "This has been a great guide for me in deciding when it is and isn't worth it to write a function for something. A rule of thumb I like to use is that if I would be copying and pasting more than 3 times, I write a function.\n",
    "\n",
    "There are also benefits other than convenience to this approach, such as that it: \n",
    "* reduces the possibility for error (when copying and pasting, it's easy to accidentally forget to change a value)\n",
    "* makes for more readable code\n",
    "* builds up your personal toolbox of functions\n",
    "* forces you to think at a higher level of abstraction\n",
    "\n",
    "(All of which improve your programming skills and make the people who need to read your code happier!)"
   ]
  },
  {
   "cell_type": "code",
   "execution_count": 15,
   "metadata": {},
   "outputs": [
    {
     "data": {
      "image/png": "[encoded data removed]",
      "text/plain": [
       "<Figure size 576x432 with 4 Axes>"
      ]
     },
     "metadata": {
      "needs_background": "light"
     },
     "output_type": "display_data"
    }
   ],
   "source": [
    "# Setup for the 2x2 subplot grid\n",
    "# Note we don't want to share the x axis since we have counts\n",
    "fig, ax = plt.subplots(nrows=2, ncols=2, figsize=(8, 6), sharey=True)\n",
    "\n",
    "# ax.flatten() avoids having to explicitly reference a subplot index in ax\n",
    "# Use consideration_grouped.index[:-1] because we're not plotting the under-30s\n",
    "for subplot, age_group in zip(ax.flatten(), list(consideration_grouped.index)[:-1]):\n",
    "    plot_counts_by_age_group(consideration_grouped, age_group, ax=subplot)\n",
    "    \n",
    "plt.savefig('sdbp_photos/consideration_by_age.png')\n",
    "plt.tight_layout()"
   ]
  },
  {
   "cell_type": "markdown",
   "metadata": {},
   "source": [
    "This is, of course, generated data from a uniform distribution, and we would thus not expect to see any significant differences between groups. Hopefully your own survey data will be more interesting. \n",
    "\n",
    "Next, let's address another format of question. In this one, we need to see how interested each age group is in a given benefit. Happily, these questions are actually easier to deal with than the former type. Let's take a look:"
   ]
  },
  {
   "cell_type": "code",
   "execution_count": 16,
   "metadata": {},
   "outputs": [
    {
     "data": {
      "text/html": [
       "<div>\n",
       "<style scoped>\n",
       "    .dataframe tbody tr th:only-of-type {\n",
       "        vertical-align: middle;\n",
       "    }\n",
       "\n",
       "    .dataframe tbody tr th {\n",
       "        vertical-align: top;\n",
       "    }\n",
       "\n",
       "    .dataframe thead th {\n",
       "        text-align: right;\n",
       "    }\n",
       "</style>\n",
       "<table border=\"1\" class=\"dataframe\">\n",
       "  <thead>\n",
       "    <tr style=\"text-align: right;\">\n",
       "      <th></th>\n",
       "      <th>How interested are you in the following benefits?</th>\n",
       "      <th>Unnamed: 8</th>\n",
       "      <th>Unnamed: 9</th>\n",
       "      <th>Unnamed: 10</th>\n",
       "      <th>age_group</th>\n",
       "    </tr>\n",
       "  </thead>\n",
       "  <tbody>\n",
       "    <tr>\n",
       "      <th>1</th>\n",
       "      <td>Neutral</td>\n",
       "      <td>Very interested</td>\n",
       "      <td>Somewhat interested</td>\n",
       "      <td>Very interested</td>\n",
       "      <td>30-39</td>\n",
       "    </tr>\n",
       "    <tr>\n",
       "      <th>2</th>\n",
       "      <td>Somewhat uninterested</td>\n",
       "      <td>Very interested</td>\n",
       "      <td>Neutral</td>\n",
       "      <td>Somewhat interested</td>\n",
       "      <td>30-39</td>\n",
       "    </tr>\n",
       "    <tr>\n",
       "      <th>3</th>\n",
       "      <td>Somewhat uninterested</td>\n",
       "      <td>Neutral</td>\n",
       "      <td>Somewhat interested</td>\n",
       "      <td>Very interested</td>\n",
       "      <td>&lt;30</td>\n",
       "    </tr>\n",
       "  </tbody>\n",
       "</table>\n",
       "</div>"
      ],
      "text/plain": [
       "  How interested are you in the following benefits?       Unnamed: 8  \\\n",
       "1                                           Neutral  Very interested   \n",
       "2                             Somewhat uninterested  Very interested   \n",
       "3                             Somewhat uninterested          Neutral   \n",
       "\n",
       "            Unnamed: 9          Unnamed: 10 age_group  \n",
       "1  Somewhat interested      Very interested     30-39  \n",
       "2              Neutral  Somewhat interested     30-39  \n",
       "3  Somewhat interested      Very interested       <30  "
      ]
     },
     "execution_count": 16,
     "metadata": {},
     "output_type": "execute_result"
    }
   ],
   "source": [
    "benefits = survey_data.iloc[:, 7:]\n",
    "benefits.head(3)"
   ]
  },
  {
   "cell_type": "markdown",
   "metadata": {},
   "source": [
    "And look, since this is a small DataFrame, `age_group` is appended already and we won't have to add it."
   ]
  },
  {
   "cell_type": "code",
   "execution_count": 17,
   "metadata": {},
   "outputs": [
    {
     "data": {
      "text/html": [
       "<div>\n",
       "<style scoped>\n",
       "    .dataframe tbody tr th:only-of-type {\n",
       "        vertical-align: middle;\n",
       "    }\n",
       "\n",
       "    .dataframe tbody tr th {\n",
       "        vertical-align: top;\n",
       "    }\n",
       "\n",
       "    .dataframe thead th {\n",
       "        text-align: right;\n",
       "    }\n",
       "</style>\n",
       "<table border=\"1\" class=\"dataframe\">\n",
       "  <thead>\n",
       "    <tr style=\"text-align: right;\">\n",
       "      <th></th>\n",
       "      <th>Custom dashboard templates</th>\n",
       "      <th>SQL tutorials</th>\n",
       "      <th>More drag-and-drop features</th>\n",
       "      <th>More ready-made formulas</th>\n",
       "      <th>age_group</th>\n",
       "    </tr>\n",
       "  </thead>\n",
       "  <tbody>\n",
       "    <tr>\n",
       "      <th>1</th>\n",
       "      <td>Neutral</td>\n",
       "      <td>Very interested</td>\n",
       "      <td>Somewhat interested</td>\n",
       "      <td>Very interested</td>\n",
       "      <td>30-39</td>\n",
       "    </tr>\n",
       "    <tr>\n",
       "      <th>2</th>\n",
       "      <td>Somewhat uninterested</td>\n",
       "      <td>Very interested</td>\n",
       "      <td>Neutral</td>\n",
       "      <td>Somewhat interested</td>\n",
       "      <td>30-39</td>\n",
       "    </tr>\n",
       "    <tr>\n",
       "      <th>3</th>\n",
       "      <td>Somewhat uninterested</td>\n",
       "      <td>Neutral</td>\n",
       "      <td>Somewhat interested</td>\n",
       "      <td>Very interested</td>\n",
       "      <td>&lt;30</td>\n",
       "    </tr>\n",
       "  </tbody>\n",
       "</table>\n",
       "</div>"
      ],
      "text/plain": [
       "  Custom dashboard templates    SQL tutorials More drag-and-drop features  \\\n",
       "1                    Neutral  Very interested         Somewhat interested   \n",
       "2      Somewhat uninterested  Very interested                     Neutral   \n",
       "3      Somewhat uninterested          Neutral         Somewhat interested   \n",
       "\n",
       "  More ready-made formulas age_group  \n",
       "1          Very interested     30-39  \n",
       "2      Somewhat interested     30-39  \n",
       "3          Very interested       <30  "
      ]
     },
     "execution_count": 17,
     "metadata": {},
     "output_type": "execute_result"
    }
   ],
   "source": [
    "ben_col_names = headers[7:].values\n",
    "\n",
    "benefits = rename_columns(benefits, ben_col_names)\n",
    "\n",
    "benefits.head(3)"
   ]
  },
  {
   "cell_type": "markdown",
   "metadata": {},
   "source": [
    "Cool. Now we have the subsetted data, but we can't just aggregate it by count this time like we could with the other question - the last question had NaNs that would be excluded to give the true count for that response, but with this one, we would just get the number of responses for each age group overall:"
   ]
  },
  {
   "cell_type": "code",
   "execution_count": 18,
   "metadata": {},
   "outputs": [
    {
     "data": {
      "text/html": [
       "<div>\n",
       "<style scoped>\n",
       "    .dataframe tbody tr th:only-of-type {\n",
       "        vertical-align: middle;\n",
       "    }\n",
       "\n",
       "    .dataframe tbody tr th {\n",
       "        vertical-align: top;\n",
       "    }\n",
       "\n",
       "    .dataframe thead th {\n",
       "        text-align: right;\n",
       "    }\n",
       "</style>\n",
       "<table border=\"1\" class=\"dataframe\">\n",
       "  <thead>\n",
       "    <tr style=\"text-align: right;\">\n",
       "      <th></th>\n",
       "      <th>Custom dashboard templates</th>\n",
       "      <th>SQL tutorials</th>\n",
       "      <th>More drag-and-drop features</th>\n",
       "      <th>More ready-made formulas</th>\n",
       "    </tr>\n",
       "    <tr>\n",
       "      <th>age_group</th>\n",
       "      <th></th>\n",
       "      <th></th>\n",
       "      <th></th>\n",
       "      <th></th>\n",
       "    </tr>\n",
       "  </thead>\n",
       "  <tbody>\n",
       "    <tr>\n",
       "      <th>30-39</th>\n",
       "      <td>79</td>\n",
       "      <td>79</td>\n",
       "      <td>79</td>\n",
       "      <td>79</td>\n",
       "    </tr>\n",
       "    <tr>\n",
       "      <th>40-49</th>\n",
       "      <td>89</td>\n",
       "      <td>89</td>\n",
       "      <td>89</td>\n",
       "      <td>89</td>\n",
       "    </tr>\n",
       "    <tr>\n",
       "      <th>50-59</th>\n",
       "      <td>77</td>\n",
       "      <td>77</td>\n",
       "      <td>77</td>\n",
       "      <td>77</td>\n",
       "    </tr>\n",
       "    <tr>\n",
       "      <th>60+</th>\n",
       "      <td>163</td>\n",
       "      <td>163</td>\n",
       "      <td>163</td>\n",
       "      <td>163</td>\n",
       "    </tr>\n",
       "    <tr>\n",
       "      <th>&lt;30</th>\n",
       "      <td>92</td>\n",
       "      <td>92</td>\n",
       "      <td>92</td>\n",
       "      <td>92</td>\n",
       "    </tr>\n",
       "  </tbody>\n",
       "</table>\n",
       "</div>"
      ],
      "text/plain": [
       "           Custom dashboard templates  SQL tutorials  \\\n",
       "age_group                                              \n",
       "30-39                              79             79   \n",
       "40-49                              89             89   \n",
       "50-59                              77             77   \n",
       "60+                               163            163   \n",
       "<30                                92             92   \n",
       "\n",
       "           More drag-and-drop features  More ready-made formulas  \n",
       "age_group                                                         \n",
       "30-39                               79                        79  \n",
       "40-49                               89                        89  \n",
       "50-59                               77                        77  \n",
       "60+                                163                       163  \n",
       "<30                                 92                        92  "
      ]
     },
     "execution_count": 18,
     "metadata": {},
     "output_type": "execute_result"
    }
   ],
   "source": [
    "benefits.groupby('age_group').agg('count')"
   ]
  },
  {
   "cell_type": "markdown",
   "metadata": {},
   "source": [
    "This is definitely not what we want! The point of the question is to understand how interested the different age groups are, and we need to preserve that information. All this tells us is how many people in each age group responded to the question.\n",
    "\n",
    "So what do we do? One way to go would be to re-encode these responses numerically. But what if we want to preserve the relationship on an even more granular level? If we encode numerically, we can take the median and average of each age group's level of interest. But what if what we're really interested in is the specific percentage of people per age group who chose each interest level? It'd be easier to convey that info in a barplot, with the text preserved.\n",
    "\n",
    "That's what we're going to do next. And--you guessed it--it's time to write another function."
   ]
  },
  {
   "cell_type": "code",
   "execution_count": 19,
   "metadata": {},
   "outputs": [],
   "source": [
    "order = ['Not Interested at all', 'Somewhat uninterested',\n",
    "        'Neutral', 'Somewhat interested', 'Very interested']\n",
    "\n",
    "def plot_benefit_question(df, col_name, age_group, order=order, \n",
    "                          palette='Spectral', ax=None):\n",
    "    \n",
    "    \"\"\"Takes a relevant DataFrame, the name of the column (benefit) we want info on,\n",
    "        and an age group, and returns a plot of the answers to that benefit question.\"\"\"\n",
    "    \n",
    "    reduced_df = df[[col_name, 'age_group']]\n",
    "\n",
    "    # Gets the relative frequencies (percentages) for \"this-age-group\" only\n",
    "    data_to_plot = reduced_df[reduced_df['age_group'] == age_group][col_name].value_counts(normalize=True)\n",
    "    \n",
    "    sns.barplot(y = data_to_plot.index, \n",
    "                x = data_to_plot.values, \n",
    "                order = order, \n",
    "                ax = ax,\n",
    "                palette = palette, \n",
    "                edgecolor = 'black'\n",
    "                ).set_title('Age {}: {}'.format(age_group, col_name))"
   ]
  },
  {
   "cell_type": "markdown",
   "metadata": {},
   "source": [
    "**Quick note to new learners:** Most people won't say this explicitly, but let me be clear on how visualizations are often made. Generally speaking, it is a highly iterative process. Even the most experienced data scientists don't just write up a plot with all of these specifications off the top of their head. \n",
    "\n",
    "Generally, you start with `.plot(kind='bar')`, or similar depending on the plot you want, and then you change size, color maps, get the groups properly sorted using `order=`, specify whether the labels should be rotated, and set x- or y-axis labels invisible, and more, depending on what you think is best for whoever will be using the visualizations.\n",
    "\n",
    "So don't be intimidated by the long blocks of code you see when people are making plots. They're usually created over a span of minutes while testing out different specifications, not by writing perfect code from scratch in one go.\n",
    "\n",
    "---\n",
    "\n",
    "Now we can plot another 2x2 for each benefit broken out by age group. But we'd have to do that for all 4 benefits! Again: who has time for that? Instead, we'll loop over each benefit, and each age group within each benefit, using a couple of `for` loops. But if you're interested, I'd challenge you to refactor this into a function if you happen to have many questions that are formatted like this."
   ]
  },
  {
   "cell_type": "code",
   "execution_count": 20,
   "metadata": {
    "scrolled": true
   },
   "outputs": [
    {
     "data": {
      "image/png": "[encoded data removed]",
      "text/plain": [
       "<Figure size 576x432 with 4 Axes>"
      ]
     },
     "metadata": {
      "needs_background": "light"
     },
     "output_type": "display_data"
    },
    {
     "data": {
      "image/png": "[encoded data removed]",
      "text/plain": [
       "<Figure size 576x432 with 4 Axes>"
      ]
     },
     "metadata": {
      "needs_background": "light"
     },
     "output_type": "display_data"
    },
    {
     "data": {
      "image/png": "[encoded data removed]",
      "text/plain": [
       "<Figure size 576x432 with 4 Axes>"
      ]
     },
     "metadata": {
      "needs_background": "light"
     },
     "output_type": "display_data"
    },
    {
     "data": {
      "image/png": "[encoded data removed]",
      "text/plain": [
       "<Figure size 576x432 with 4 Axes>"
      ]
     },
     "metadata": {
      "needs_background": "light"
     },
     "output_type": "display_data"
    }
   ],
   "source": [
    "# Exclude age_group from the list of benefits\n",
    "all_benefits = list(benefits.columns[:-1])\n",
    "\n",
    "# Exclude under-30s\n",
    "buckets_except_under30 = [group for group in benefits['age_group'].unique()\n",
    "                         if group != '<30']\n",
    "\n",
    "for benefit in all_benefits:\n",
    "    \n",
    "    fig, ax = plt.subplots(nrows=2, ncols=2, figsize=(8, 6), \n",
    "                           sharey=True, sharex=True)\n",
    "\n",
    "    for a, age_group in zip(ax.flatten(), buckets_except_under30):\n",
    "        plot_benefit_question(benefits, benefit, \n",
    "                              age_group=age_group, ax=a)\n",
    "        \n",
    "        # Keeps x-axis tick labels for each group of plots\n",
    "        a.xaxis.set_tick_params(which='both', labelbottom=True)\n",
    "        \n",
    "        # Suppresses displaying the question along the y-axis\n",
    "        a.yaxis.label.set_visible(False)\n",
    "    \n",
    "    plt.savefig('sdbp_photos/{}_interest_by_age.png'.format(benefit))\n",
    "    plt.tight_layout()"
   ]
  },
  {
   "cell_type": "markdown",
   "metadata": {},
   "source": [
    "Success! And if you wanted to export each individual set of plots, you would simply add the line `plt.savefig('{}_interest_by_age.png'.format(benefit))`, and `matplotlib` would automatically save a beautifully sharp rendering of each set of plots. This makes it especially easy for folks on other teams to use your findings; you can simply export them to a plots folder, and people can browse the images and be able to drag and drop them right into a PowerPoint presentation or other report.   \n",
    "\n",
    "---\n",
    "\n",
    "Let's do one more example: numerically encoding the benefits, as we mentioned earlier. Then we can generate a heatmap of the correlations between interest in different benefits."
   ]
  },
  {
   "cell_type": "code",
   "execution_count": 21,
   "metadata": {},
   "outputs": [
    {
     "data": {
      "text/html": [
       "<div>\n",
       "<style scoped>\n",
       "    .dataframe tbody tr th:only-of-type {\n",
       "        vertical-align: middle;\n",
       "    }\n",
       "\n",
       "    .dataframe tbody tr th {\n",
       "        vertical-align: top;\n",
       "    }\n",
       "\n",
       "    .dataframe thead th {\n",
       "        text-align: right;\n",
       "    }\n",
       "</style>\n",
       "<table border=\"1\" class=\"dataframe\">\n",
       "  <thead>\n",
       "    <tr style=\"text-align: right;\">\n",
       "      <th></th>\n",
       "      <th>Custom dashboard templates</th>\n",
       "      <th>SQL tutorials</th>\n",
       "      <th>More drag-and-drop features</th>\n",
       "      <th>More ready-made formulas</th>\n",
       "    </tr>\n",
       "  </thead>\n",
       "  <tbody>\n",
       "    <tr>\n",
       "      <th>1</th>\n",
       "      <td>3</td>\n",
       "      <td>5</td>\n",
       "      <td>4</td>\n",
       "      <td>5</td>\n",
       "    </tr>\n",
       "    <tr>\n",
       "      <th>2</th>\n",
       "      <td>2</td>\n",
       "      <td>5</td>\n",
       "      <td>3</td>\n",
       "      <td>4</td>\n",
       "    </tr>\n",
       "    <tr>\n",
       "      <th>3</th>\n",
       "      <td>2</td>\n",
       "      <td>3</td>\n",
       "      <td>4</td>\n",
       "      <td>5</td>\n",
       "    </tr>\n",
       "  </tbody>\n",
       "</table>\n",
       "</div>"
      ],
      "text/plain": [
       "   Custom dashboard templates  SQL tutorials  More drag-and-drop features  \\\n",
       "1                           3              5                            4   \n",
       "2                           2              5                            3   \n",
       "3                           2              3                            4   \n",
       "\n",
       "   More ready-made formulas  \n",
       "1                         5  \n",
       "2                         4  \n",
       "3                         5  "
      ]
     },
     "execution_count": 21,
     "metadata": {},
     "output_type": "execute_result"
    }
   ],
   "source": [
    "def encode_interest(interest):\n",
    "    \"\"\"Takes a string indicating interest and encodes it to an ordinal\n",
    "    (numerical) variable.\"\"\"\n",
    "        \n",
    "    if interest == 'Not Interested at all':\n",
    "        x = 1\n",
    "        \n",
    "    if interest == 'Somewhat uninterested':\n",
    "        x = 2\n",
    "    \n",
    "    if interest == 'Neutral':\n",
    "        x = 3\n",
    "        \n",
    "    if interest == 'Somewhat interested':\n",
    "        x = 4\n",
    "        \n",
    "    if interest == 'Very interested':\n",
    "        x = 5\n",
    "\n",
    "    return x  \n",
    "\n",
    "benefits_encoded = benefits.iloc[:, :-1].copy()\n",
    "\n",
    "# Map the ordinal variable\n",
    "for column in benefits.iloc[:, :-1].columns:\n",
    "    benefits_encoded[column] = benefits[column].map(encode_interest)\n",
    "\n",
    "benefits_encoded.head(3)"
   ]
  },
  {
   "cell_type": "markdown",
   "metadata": {},
   "source": [
    "And lastly, we'll generate the correlation matrix and plot the correlations."
   ]
  },
  {
   "cell_type": "code",
   "execution_count": 22,
   "metadata": {},
   "outputs": [
    {
     "data": {
      "image/png": "[encoded data removed]",
      "text/plain": [
       "<Figure size 576x432 with 2 Axes>"
      ]
     },
     "metadata": {
      "needs_background": "light"
     },
     "output_type": "display_data"
    }
   ],
   "source": [
    "# Use Spearman instead of default Pearson, since these \n",
    "# are ordinal variables!\n",
    "corr_matrix = benefits_encoded.corr(method='spearman')\n",
    "\n",
    "# Setup\n",
    "fig, ax = plt.subplots(figsize=(8, 6))\n",
    "\n",
    "# vmin and vmax control the range of the colormap\n",
    "sns.heatmap(corr_matrix, cmap='RdBu', annot=True, fmt='.2f',\n",
    "           vmin=-1, vmax=1)\n",
    "\n",
    "plt.title(\"Correlations Between Desired Benefits\")\n",
    "plt.savefig('sdbp_photos/corrs.png')\n",
    "plt.show()"
   ]
  },
  {
   "cell_type": "markdown",
   "metadata": {},
   "source": [
    "Again, since the data is randomly generated, we would expect there to be little to no correlation, and that is indeed what we find. (It is funny to note that SQL tutorials are slightly negatively correlated with drag-and-drop features, which is actually what we might expect to see in real data!)\n",
    "\n",
    "Let's do one last type of plot, one that's closely related to the heatmap: the clustermap. Clustermaps make correlations especially informative in analyzing survey responses, because they use hierarchical clustering to (in this case) group benefits together by how closely related they are. So instead of eyeballing the heatmap for which individual benefits are positively or negatively associated, which can get a little crazy when you start to have 10+ benefits, the plot will be segmented into clusters, which is a little easier to look at.\n",
    "\n",
    "You can also easily change the linkage type used in the calculation, if you're familiar with the mathematical details of hierarchical clustering. Some of the available options are 'single', 'average', and 'ward'--I won't get into the details, but 'ward' is generally a safe bet when starting out."
   ]
  },
  {
   "cell_type": "code",
   "execution_count": 23,
   "metadata": {},
   "outputs": [
    {
     "data": {
      "image/png": "[encoded data removed]",
      "text/plain": [
       "<Figure size 720x720 with 4 Axes>"
      ]
     },
     "metadata": {
      "needs_background": "light"
     },
     "output_type": "display_data"
    }
   ],
   "source": [
    "sns.clustermap(corr_matrix, method='ward', cmap='RdBu', annot=True,\n",
    "               vmin=-1, vmax=1)\n",
    "\n",
    "plt.title(\"Correlations Between Desired Benefits\")\n",
    "plt.savefig('sdbp_photos/clusts.png')\n",
    "plt.show()"
   ]
  },
  {
   "cell_type": "markdown",
   "metadata": {},
   "source": [
    "A quick assessment of this shows that the clustering algorithm believes drag-and-drop features and ready-made formulas cluster together, while custom dashboard templates and SQL tutorials form another cluster. Since the correlations are so weak, you can see that the \"height\" of when the benefits link together to form a cluster is very tall. (This means you should probably not base any business decisions on this finding!) Hopefully the example is illustrative despite the weak relationships.\n",
    "\n",
    "---\n",
    "\n",
    "I hope you enjoyed this quick tutorial about working with survey data and writing functions to quickly generate visualizations of your findings! If you think you know an even more efficient way of doing things, feel free to let me know in the comments - this is just what I came up with when I needed to produce insights as quickly as possible. "
   ]
  }
 ],
 "metadata": {
  "kernelspec": {
   "display_name": "Python 3",
   "language": "python",
   "name": "python3"
  },
  "language_info": {
   "codemirror_mode": {
    "name": "ipython",
    "version": 3
   },
   "file_extension": ".py",
   "mimetype": "text/x-python",
   "name": "python",
   "nbconvert_exporter": "python",
   "pygments_lexer": "ipython3",
   "version": "3.7.2"
  }
 },
 "nbformat": 4,
 "nbformat_minor": 2
}
